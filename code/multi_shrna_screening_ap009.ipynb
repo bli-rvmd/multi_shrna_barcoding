{
 "cells": [
  {
   "cell_type": "markdown",
   "id": "809d7165-1cdf-43a6-8b29-1f12386c5bc0",
   "metadata": {},
   "source": [
    "# Multiplexed shRNA screening AP009 Analytics\n",
    "This notebook includes analysis scripts of processing count table of multiplexed shRNA screening experiments on AP009 cell line received from Cellecta, and evaluating \n",
    "* whether multi-shRNA system works as expected\n",
    "* prognostic effect of genotype X, and\n",
    "* predictive effect of genetype X on response to treatment"
   ]
  },
  {
   "cell_type": "code",
   "execution_count": null,
   "id": "d5f55e94-13d6-405b-bb5e-8a8fb3d1a048",
   "metadata": {},
   "outputs": [],
   "source": []
  },
  {
   "cell_type": "markdown",
   "id": "cb2cc3ac-6edd-44b9-a9ed-08752752da79",
   "metadata": {},
   "source": [
    "## Dependency pkgs"
   ]
  },
  {
   "cell_type": "code",
   "execution_count": 6,
   "id": "d58a1a41-4a48-4d80-bfa4-9b7307d8cf33",
   "metadata": {},
   "outputs": [],
   "source": [
    "import pandas as pd\n",
    "import numpy as np\n",
    "from prettytable import PrettyTable\n",
    "\n",
    "# seed of random number generator\n",
    "rng_seed = 1234"
   ]
  },
  {
   "cell_type": "markdown",
   "id": "e4d12a17-612e-42f4-b1f1-efb614c6f732",
   "metadata": {},
   "source": [
    "## Experimental design and parameters\n",
    "\n",
    "Load experimental design xlsx file (from Ian)\n",
    "* Master list tab of target genes, vector types, and annotations\n",
    "* Experimental design tab of groups and samples\n",
    "  \n",
    "Load sample description xlsx file (from Cellecta)\n",
    "* Actual Sample ID and description on flowcell, and inferred information of Group, Day_Tx, Replicate, Dox, etc.\n",
    "\n",
    "Also check out schematic workflow of experimental design (from Zheng)\n",
    "\n",
    "![multiplexed shRNA screening experiment](schematic_workflow_experimental_design.png)"
   ]
  },
  {
   "cell_type": "code",
   "execution_count": 7,
   "id": "cbfaf28b-f595-4b65-a5eb-4074a73b6b86",
   "metadata": {},
   "outputs": [],
   "source": [
    "#### experimental design xlsx file\n",
    "file_path = \"~/Documents/Projects/Multi_shRNA_screening_AP009/data/Multiplexed shRNA screen in 2D AP009 - Cellecta.xlsx\"\n",
    "\n",
    "xls = pd.ExcelFile(file_path)\n",
    "\n",
    "## Gene targets\n",
    "gene_targets_df = pd.read_excel(xls, sheet_name=\"Master list\")\n",
    "# Filter out \"Individual dual shRNA vector\" from gene targets\n",
    "filtered_gene_targets_df = gene_targets_df[gene_targets_df[\"Vector type\"] != \"Individual dual shRNA vector\"]\n",
    "filtered_gene_targets = filtered_gene_targets_df[\"Mouse gene symbol\"].dropna().unique()\n",
    "\n",
    "# ## Define experimental parameters\n",
    "# # Num clonal barcodes per gene\n",
    "# num_clonal_barcodes = 12000  \n",
    "# # Num shRNAs per gene\n",
    "# num_shRNAs_per_gene = 10  \n",
    "# # N_reps per condition per timepoint\n",
    "# num_replicates = 2  \n",
    "\n",
    "## Define experimental conditions and timepoints \n",
    "# available timepoints\n",
    "time_points = [\"0d\", \"3d\", \"6d\", \"9d\"]\n",
    "# experimental conditions based on design\n",
    "conditions = [\n",
    "    \"Baseline_NoDox_Vehicle\",\n",
    "    \"Baseline_Dox_PreTx\",  # Only at 0d\n",
    "    \"Prognostic_Dox_Vehicle\",\n",
    "    \"Predictive_Dox_7977_LowDose\",  # IC30 early, IC50 later\n",
    "    \"Predictive_Dox_7977_HighDose\"  # IC90\n",
    "]\n",
    "\n",
    "#### sample description xlsx file\n",
    "file_path_cellecta = \"/Users/bli/Documents/Projects/Multi_shRNA_screening_AP009/data/sample description.xlsx\"\n",
    "\n",
    "sd_df = pd.read_excel(file_path_cellecta, sheet_name='Sheet1')\n",
    "\n",
    "# Set the first row as column headers and remove it from the data\n",
    "sd_df.columns = sd_df.iloc[0]\n",
    "sd_df = sd_df[1:].reset_index(drop=True)\n",
    "\n",
    "# Rename columns to remove any unintended whitespace\n",
    "sd_df.columns = sd_df.columns.str.strip()"
   ]
  },
  {
   "cell_type": "markdown",
   "id": "c19e1265-4f15-43f3-8c60-3e7fbafaed3e",
   "metadata": {},
   "source": [
    "Utility function of table viewing"
   ]
  },
  {
   "cell_type": "code",
   "execution_count": 12,
   "id": "05bce36e-d5b0-4c0d-bd28-e7441aab4550",
   "metadata": {},
   "outputs": [],
   "source": [
    "## utility function of printing table\n",
    "def ViewTable(df, top_n_rows = None):\n",
    "    table = PrettyTable(df.columns.tolist())\n",
    "    if top_n_rows:\n",
    "        df_tmp = sd_df.head(top_n_rows)\n",
    "    else:\n",
    "        df_tmp = sd_df\n",
    "    for row in df_tmp.itertuples(index=False, name=None):\n",
    "        table.add_row(row)\n",
    "    print(table)"
   ]
  },
  {
   "cell_type": "code",
   "execution_count": 13,
   "id": "35247121-dbd7-4907-8258-a2a1e323c8c2",
   "metadata": {},
   "outputs": [
    {
     "name": "stdout",
     "output_type": "stream",
     "text": [
      "+-----------+--------------------+----------------+------------------------------------------------+-------------------+-----+-------+--------+-----------+-----+------+\n",
      "| Sample ID | Sample Description |    Library     |                     Vector                     |      Flowcell     | nan | Group | Day_Tx | Replicate | Dox | Note |\n",
      "+-----------+--------------------+----------------+------------------------------------------------+-------------------+-----+-------+--------+-----------+-----+------+\n",
      "|     D1    |  T13_2_Dox_0.6nM   | 2.2K-REVMED-ZZ |  pRSIT16cb-U6tet-sh-CMV-tetR-2A-TagRFP-2A-Puro | 25-03-11  102190  | nan |   5   |   9    |     2     |  Y  | nan  |\n",
      "|     D2    |  T13_1_Dox_0.6nM   | 2.2K-REVMED-ZZ |  pRSIT16cb-U6tet-sh-CMV-tetR-2A-TagRFP-2A-Puro | 25-03-11  102190  | nan |   5   |   9    |     1     |  Y  | nan  |\n",
      "|     D3    |  T13_2_Dox_3.5nM   | 2.2K-REVMED-ZZ |  pRSIT16cb-U6tet-sh-CMV-tetR-2A-TagRFP-2A-Puro | 25-03-11  102190  | nan |   4   |   9    |     2     |  Y  | nan  |\n",
      "|     D4    |  T13_1_Dox_3.5nM   | 2.2K-REVMED-ZZ |  pRSIT16cb-U6tet-sh-CMV-tetR-2A-TagRFP-2A-Puro | 25-03-11  102190  | nan |   4   |   9    |     1     |  Y  | nan  |\n",
      "|     D5    |     T13_2-Dox      | 2.2K-REVMED-ZZ |  pRSIT16cb-U6tet-sh-CMV-tetR-2A-TagRFP-2A-Puro | 25-03-11  102190  | nan |   2   |   9    |     2     |  Y  | nan  |\n",
      "+-----------+--------------------+----------------+------------------------------------------------+-------------------+-----+-------+--------+-----------+-----+------+\n"
     ]
    }
   ],
   "source": [
    "ViewTable(sd_df, 5)"
   ]
  },
  {
   "cell_type": "code",
   "execution_count": 14,
   "id": "7475d7e1-5264-42fa-a639-b09655636689",
   "metadata": {},
   "outputs": [
    {
     "name": "stdout",
     "output_type": "stream",
     "text": [
      "+-----------+--------------------+----------------+------------------------------------------------+-------------------+-----+--------+--------+-----------+-----+--------------------------------+\n",
      "| Sample ID | Sample Description |    Library     |                     Vector                     |      Flowcell     | nan | Group  | Day_Tx | Replicate | Dox |              Note              |\n",
      "+-----------+--------------------+----------------+------------------------------------------------+-------------------+-----+--------+--------+-----------+-----+--------------------------------+\n",
      "|     D1    |  T13_2_Dox_0.6nM   | 2.2K-REVMED-ZZ |  pRSIT16cb-U6tet-sh-CMV-tetR-2A-TagRFP-2A-Puro | 25-03-11  102190  | nan |   5    |   9    |     2     |  Y  |              nan               |\n",
      "|     D2    |  T13_1_Dox_0.6nM   | 2.2K-REVMED-ZZ |  pRSIT16cb-U6tet-sh-CMV-tetR-2A-TagRFP-2A-Puro | 25-03-11  102190  | nan |   5    |   9    |     1     |  Y  |              nan               |\n",
      "|     D3    |  T13_2_Dox_3.5nM   | 2.2K-REVMED-ZZ |  pRSIT16cb-U6tet-sh-CMV-tetR-2A-TagRFP-2A-Puro | 25-03-11  102190  | nan |   4    |   9    |     2     |  Y  |              nan               |\n",
      "|     D4    |  T13_1_Dox_3.5nM   | 2.2K-REVMED-ZZ |  pRSIT16cb-U6tet-sh-CMV-tetR-2A-TagRFP-2A-Puro | 25-03-11  102190  | nan |   4    |   9    |     1     |  Y  |              nan               |\n",
      "|     D5    |     T13_2-Dox      | 2.2K-REVMED-ZZ |  pRSIT16cb-U6tet-sh-CMV-tetR-2A-TagRFP-2A-Puro | 25-03-11  102190  | nan |   2    |   9    |     2     |  Y  |              nan               |\n",
      "|     D6    |     T13_1-Dox      | 2.2K-REVMED-ZZ |  pRSIT16cb-U6tet-sh-CMV-tetR-2A-TagRFP-2A-Puro | 25-03-11  102190  | nan |   2    |   9    |     1     |  Y  |              nan               |\n",
      "|     D7    |  T10_2_Dox_0.6nM   | 2.2K-REVMED-ZZ |  pRSIT16cb-U6tet-sh-CMV-tetR-2A-TagRFP-2A-Puro | 25-03-11  102190  | nan |   5    |   6    |     2     |  Y  |              nan               |\n",
      "|     D8    |  T10_1_Dox_0.6nM   | 2.2K-REVMED-ZZ |  pRSIT16cb-U6tet-sh-CMV-tetR-2A-TagRFP-2A-Puro | 25-03-11  102190  | nan |   5    |   6    |     1     |  Y  |              nan               |\n",
      "|     D9    |  T10_2_Dox_3.5nM   | 2.2K-REVMED-ZZ |  pRSIT16cb-U6tet-sh-CMV-tetR-2A-TagRFP-2A-Puro | 25-03-11  102190  | nan |   4    |   6    |     2     |  Y  |              nan               |\n",
      "|    D10    |  T10_1_Dox_3.5nM   | 2.2K-REVMED-ZZ |  pRSIT16cb-U6tet-sh-CMV-tetR-2A-TagRFP-2A-Puro | 25-03-11  102190  | nan |   4    |   6    |     1     |  Y  |              nan               |\n",
      "|    D11    |     T10_2-Dox      | 2.2K-REVMED-ZZ |  pRSIT16cb-U6tet-sh-CMV-tetR-2A-TagRFP-2A-Puro | 25-03-11  102190  | nan |   2    |   6    |     2     |  Y  |              nan               |\n",
      "|    D12    |     T10_1-Dox      | 2.2K-REVMED-ZZ |  pRSIT16cb-U6tet-sh-CMV-tetR-2A-TagRFP-2A-Puro | 25-03-11  102190  | nan |   2    |   6    |     1     |  Y  |              nan               |\n",
      "|    D13    |   T7_2_Dox_0.6nM   | 2.2K-REVMED-ZZ |  pRSIT16cb-U6tet-sh-CMV-tetR-2A-TagRFP-2A-Puro | 25-03-11  102190  | nan |   5    |   3    |     2     |  Y  |              nan               |\n",
      "|    D14    |   T7_1_Dox_0.6nM   | 2.2K-REVMED-ZZ |  pRSIT16cb-U6tet-sh-CMV-tetR-2A-TagRFP-2A-Puro | 25-03-11  102190  | nan |   5    |   3    |     1     |  Y  |              nan               |\n",
      "|    D15    |   T7_2_Dox_3.5nM   | 2.2K-REVMED-ZZ |  pRSIT16cb-U6tet-sh-CMV-tetR-2A-TagRFP-2A-Puro | 25-03-11  102190  | nan |   4    |   3    |     2     |  Y  |              nan               |\n",
      "|    D16    |   T7_1_Dox_3.5nM   | 2.2K-REVMED-ZZ |  pRSIT16cb-U6tet-sh-CMV-tetR-2A-TagRFP-2A-Puro | 25-03-11  102190  | nan |   4    |   3    |     1     |  Y  |              nan               |\n",
      "|    D17    |     T7_2-NoDox     | 2.2K-REVMED-ZZ |  pRSIT16cb-U6tet-sh-CMV-tetR-2A-TagRFP-2A-Puro | 25-03-11  102190  | nan |   1    |   3    |     2     |  N  |              nan               |\n",
      "|  D18 (A)  |     T7_1-NoDox     | 2.2K-REVMED-ZZ |  pRSIT16cb-U6tet-sh-CMV-tetR-2A-TagRFP-2A-Puro | 25-03-11  102190  | nan |   1    |   3    |   1 (A)   |  N  |              nan               |\n",
      "|  D18 (B)  |     T7_1-NoDox     | 2.2K-REVMED-ZZ |  pRSIT16cb-U6tet-sh-CMV-tetR-2A-TagRFP-2A-Puro | 25-03-11  102190  | nan |   1    |   3    |   1 (B)   |  N  | should tech rep be in group 2? |\n",
      "|    D19    |      T7_2-Dox      | 2.2K-REVMED-ZZ |  pRSIT16cb-U6tet-sh-CMV-tetR-2A-TagRFP-2A-Puro | 25-03-11  102190  | nan |   2    |   3    |     2     |  Y  |              nan               |\n",
      "|    D20    |      T7_1-Dox      | 2.2K-REVMED-ZZ |  pRSIT16cb-U6tet-sh-CMV-tetR-2A-TagRFP-2A-Puro | 25-03-11  102190  | nan |   2    |   3    |     1     |  Y  |              nan               |\n",
      "|    D21    |      T4_2-Dox      | 2.2K-REVMED-ZZ |  pRSIT16cb-U6tet-sh-CMV-tetR-2A-TagRFP-2A-Puro | 25-03-11  102190  | nan | pre-Tx |   0    |     2     |  Y  |  should this be replicate 3?   |\n",
      "|    D22    |      T4_2-Dox      | 2.2K-REVMED-ZZ |  pRSIT16cb-U6tet-sh-CMV-tetR-2A-TagRFP-2A-Puro | 25-03-11  102190  | nan | pre-Tx |   0    |     2     |  Y  |              nan               |\n",
      "|    D23    |      T4_1-Dox      | 2.2K-REVMED-ZZ |  pRSIT16cb-U6tet-sh-CMV-tetR-2A-TagRFP-2A-Puro | 25-03-11  102190  | nan | pre-Tx |   0    |     1     |  Y  |              nan               |\n",
      "|  plasmid  |      plasmid       | 2.2K-REVMED-ZZ |  pRSIT16cb-U6tet-sh-CMV-tetR-2A-TagRFP-2A-Puro | 25-03-11  102190  | nan |  nan   |  nan   |    nan    | nan |              nan               |\n",
      "+-----------+--------------------+----------------+------------------------------------------------+-------------------+-----+--------+--------+-----------+-----+--------------------------------+\n"
     ]
    }
   ],
   "source": [
    "ViewTable(sd_df)"
   ]
  },
  {
   "cell_type": "code",
   "execution_count": null,
   "id": "658eb76f-f44e-45de-a432-d1f4b65c3193",
   "metadata": {},
   "outputs": [],
   "source": [
    "print(df.summary)"
   ]
  }
 ],
 "metadata": {
  "kernelspec": {
   "display_name": "Python 3 (ipykernel)",
   "language": "python",
   "name": "python3"
  },
  "language_info": {
   "codemirror_mode": {
    "name": "ipython",
    "version": 3
   },
   "file_extension": ".py",
   "mimetype": "text/x-python",
   "name": "python",
   "nbconvert_exporter": "python",
   "pygments_lexer": "ipython3",
   "version": "3.11.8"
  }
 },
 "nbformat": 4,
 "nbformat_minor": 5
}
